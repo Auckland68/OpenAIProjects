{
 "cells": [
  {
   "cell_type": "markdown",
   "id": "eb40105d",
   "metadata": {},
   "source": [
    "# OPENAI-NOTEBOOK6 SENTIMENT ANALYSIS"
   ]
  },
  {
   "cell_type": "markdown",
   "id": "de8cfea9",
   "metadata": {},
   "source": [
    "From course by Jose Portilla\n",
    "\n",
    "Rate sentiment for companies on Redit posts"
   ]
  },
  {
   "cell_type": "code",
   "execution_count": 1,
   "id": "8450f8b2",
   "metadata": {},
   "outputs": [],
   "source": [
    "import os\n",
    "import openai\n",
    "import praw"
   ]
  },
  {
   "cell_type": "code",
   "execution_count": 20,
   "id": "2aa6f16a",
   "metadata": {},
   "outputs": [],
   "source": [
    "#os.environ['REDDIT CLIENT ID'] = ''\n",
    "#os.environ['REDDIT SECRET'] = ''\n",
    "#os.environ['OPEN_AI_KEY'] = ''\n",
    "\n",
    "client_id = os.getenv('REDDIT CLIENT ID')\n",
    "client_secret = os.getenv('REDDIT SECRET')\n",
    "openai.api_key = os.getenv('OPEN_AI_KEY')"
   ]
  },
  {
   "cell_type": "markdown",
   "id": "5c1ef494",
   "metadata": {},
   "source": [
    "## Reddit API"
   ]
  },
  {
   "cell_type": "code",
   "execution_count": 3,
   "id": "3d0742e4",
   "metadata": {},
   "outputs": [],
   "source": [
    "reddit = praw.Reddit(client_id = client_id,\n",
    "                    client_secret = client_secret,\n",
    "                    user_agent = \"sentiment analysis test\"\n",
    "                    )"
   ]
  },
  {
   "cell_type": "code",
   "execution_count": 5,
   "id": "c97dca8b",
   "metadata": {},
   "outputs": [
    {
     "name": "stdout",
     "output_type": "stream",
     "text": [
      "Moronic Monday - April 11, 2023 - Your Weekly Questions Thread\n",
      "We are Wall Street Journal reporters covering the collapse of SVB. Ask us anything.\n",
      "De-dollarization has started, but the odds that China's yuan will take over are 'profoundly unlikely to essentially impossible'\n",
      "Strip private banks of their power to create money\n",
      "Dour Earnings Loom Over Wall St. as a Slowing Economy Bites\n"
     ]
    }
   ],
   "source": [
    "# Get titles from reddit\n",
    "\n",
    "for submission in reddit.subreddit(\"finance\").hot(limit = 5):\n",
    "    print(submission.title)"
   ]
  },
  {
   "cell_type": "code",
   "execution_count": 6,
   "id": "980431b8",
   "metadata": {},
   "outputs": [
    {
     "name": "stdout",
     "output_type": "stream",
     "text": [
      "Rate My Portfolio - r/Stocks Quarterly Thread March 2023\n",
      "r/Stocks Daily Discussion & Options Trading Thursday - Apr 13, 2023\n",
      "Fed expects banking crisis to cause a recession this year, minutes show\n",
      "Producer price index declines 0.5% in March\n",
      "Inflation rises 0.1% in March, less than expected\n"
     ]
    }
   ],
   "source": [
    "# Another example\n",
    "\n",
    "for submission in reddit.subreddit(\"stocks\").hot(limit = 5):\n",
    "    print(submission.title)"
   ]
  },
  {
   "cell_type": "markdown",
   "id": "8669d1d1",
   "metadata": {},
   "source": [
    "## Retrieve Comments"
   ]
  },
  {
   "cell_type": "code",
   "execution_count": 7,
   "id": "35bfda02",
   "metadata": {},
   "outputs": [],
   "source": [
    "subreddit_stocks = reddit.subreddit('stocks')"
   ]
  },
  {
   "cell_type": "code",
   "execution_count": 8,
   "id": "99c345e8",
   "metadata": {},
   "outputs": [
    {
     "data": {
      "text/plain": [
       "'stocks'"
      ]
     },
     "execution_count": 8,
     "metadata": {},
     "output_type": "execute_result"
    }
   ],
   "source": [
    "subreddit_stocks.display_name"
   ]
  },
  {
   "cell_type": "code",
   "execution_count": 9,
   "id": "5d320693",
   "metadata": {},
   "outputs": [
    {
     "data": {
      "text/plain": [
       "'Stocks - Investing and trading for all'"
      ]
     },
     "execution_count": 9,
     "metadata": {},
     "output_type": "execute_result"
    }
   ],
   "source": [
    "subreddit_stocks.title"
   ]
  },
  {
   "cell_type": "code",
   "execution_count": 10,
   "id": "02dcf5c5",
   "metadata": {},
   "outputs": [
    {
     "data": {
      "text/plain": [
       "4752"
      ]
     },
     "execution_count": 10,
     "metadata": {},
     "output_type": "execute_result"
    }
   ],
   "source": [
    "subreddit_stocks.accounts_active"
   ]
  },
  {
   "cell_type": "code",
   "execution_count": 12,
   "id": "2853e5eb",
   "metadata": {},
   "outputs": [
    {
     "name": "stdout",
     "output_type": "stream",
     "text": [
      "Rate My Portfolio - r/Stocks Quarterly Thread March 2023\n",
      "I am 26, so I have several decades until retirement. My goal is to hold the stocks in my portfolio perpetually, though I'm not reserved to make adjustments and sell when a) I see an opportunity to take profits b) my thesis changes. My long term goal is passive income generation, though I don't chase yields. I don't pay much attention to valuation or macro, as I think that since I plan on holding these stocks for decades while buying every month, those don't matter to me much. I invest regularly every month, so I'm okay with buying at a higher valuation at times and lower valuation at other times. In my opinion, buying at the best possible time is more difficult than buying a good company. That said, if I see an undervalued stock I like, I don't hesitate to buy more and when I make my regular contributions, I try weigh towards stocks that might have been beaten down or seem undervalued. My last review in one of these was [Dec 2021](https://www.reddit.com/r/stocks/comments/r6bdjt/rate_my_portfolio_rstocks_quarterly_thread/hn1ot2t/). Since then, I have made some adjustments, mostly by researching new companies and updating what I focus on when doing my analysis. I am pretty comfortable with my current portfolio and can see myself holding any of these companies for decades (that surely won't be the case, but I'm okay with that; not all of these will be good investments, but most of them should, I think).\n",
      "\n",
      "My goal is not doing 50% in a year or buying low and selling high. My goal is to outperform the index modestly, at maybe 2-3% annually, which would compound very nicely over decades. I'm okay with the risk that I underperform at a modest rate. I want to avoid making drastic changes to my portfolio depending on macro environment.\n",
      "\n",
      "I like stocks that are quality companies with:\n",
      "\n",
      "-\tA sustainable business model - high cash flow generation, high ROIC / ROCE, good balance sheet. Bonus points for recurring, diversified revenue, and optionality.\n",
      "-\tBusiness model and products I understand, or at least understand their value. I don't think I'll ever understand ASML's machines, but I understand why it's one of a kind company.\n",
      "-\tA wide moat. Bonus points are for brand value, network effect, IP, barriers to entry / high switching costs, supply chain, etc. I am okay with paying a high multiple for a company that cannot be replicated by throwing money at the problem. Almost every company I own scores very high in this regard in my own checklist.\n",
      "-\tHigh margins. I focus mostly on gross margin, but consider other margin metrics, too.\n",
      "-\tSustainable buybacks and dividend growth.\n",
      "-\tGreat management.\n",
      "\n",
      "Not every company I own scores high in each of these, but together they fit my investment goals very well.\n",
      "\n",
      "I used to have an allocation for growth in my portfolio, but overtime, I have decided to fully target quality companies and compounders with a great track record. I realized that it is never too late to buy into a company once it becomes profitable and sustainable. And if I miss a few 10-baggers because of restraint from unprofitable companies, I'll be okay with that.\n",
      "\n",
      "My current allocation is 96% equity, with the rest being a single commodity holding - a carbon allowance ETF (CARB on BIT)\n",
      "\n",
      "Of the 96% equity, 1/3 (32%) is in diversified ETFs:\n",
      "\n",
      "| **Name**                 | **Target allocation** |\n",
      "|--------------------------|----------------------:|\n",
      "| **MSCI World**           | 24,0%                 |\n",
      "| **MSCI World Small Cap** | 4,0%                  |\n",
      "| **MSCI EM IMI**          | 4,0%                  |\n",
      "\n",
      "The other 2/3s are stocks, structured as following, ordered by my target weight (descending):\n",
      "\n",
      "| **Name**                        | **Ticker** | **Target allocation** |\n",
      "|---------------------------------|:----------:|----------------------:|\n",
      "| **Microsoft**                   | MSFT       | 6,00%                 |\n",
      "| **Apple**                       | AAPL       | 5,50%                 |\n",
      "| **ASML Holding**                | ASML       | 5,50%                 |\n",
      "| **Brookfield Corporation**      | BN         | 4,00%                 |\n",
      "| **Costco**                      | COST       | 4,00%                 |\n",
      "| **MasterCard**                  | MA         | 4,00%                 |\n",
      "| **Novo Nordisk**                | NVO        | 4,00%                 |\n",
      "| **Ulta Beauty**                 | ULTA       | 4,00%                 |\n",
      "| **Visa**                        | V          | 4,00%                 |\n",
      "| **Alphabet**                    | GOOG       | 4,00%                 |\n",
      "| **Johnson and Johnson**         | JNJ        | 3,00%                 |\n",
      "| **Home Depot**                  | HD         | 3,00%                 |\n",
      "| **Lockheed Martin**             | LMT        | 3,00%                 |\n",
      "| **Union Pacific**               | UNP        | 3,00%                 |\n",
      "| **Intuitive Surgical**          | ISRG       | 2,50%                 |\n",
      "| **Adobe**                       | ADBE       | 2,50%                 |\n",
      "| **Brookfield Asset Management** | BAM        | 2,00%                 |\n",
      "\n",
      "Edit: I also have two retirement accounts that are both 100% MSCI World.\n",
      "24 Years old.\n",
      "\n",
      "GOOGL 17% , META 17%, V 15%, MSFT 13%, AAPL 13%, MO 11%, Treasury ETF 4%, C 3%, XLRE 3%, AMZN 2%, GM 1%.\n",
      "\n",
      "This is my taxable portfolio, my ROTH is all in SP500 / Growth mutual funds.\n",
      "\n",
      "My current goals are to build my positions in AMZN and Short-Term US Treasuries to 10% Each. Also, I want to build a position into XLF.\n",
      "r/Stocks Daily Discussion & Options Trading Thursday - Apr 13, 2023\n",
      "Pretty cool to see my 401k up 6.3% YTD 🥹\n",
      "FAST\n",
      "Q1-2023 Earnings\n",
      "\n",
      "EPS +4%\n",
      "$ 0.52 (vs 0.50)\n",
      "\n",
      "REV -0%\n",
      "$ 1.86B (vs 1.86b)\n",
      "\n",
      "\"During the full year of 2023, we continue to expect our investment in property and equipment, net of proceeds of sales, to be within a range of $210M to $230M, increasing from $162.4M in 2022\".\n",
      "Fed expects banking crisis to cause a recession this year, minutes show\n",
      "bro for the past 6 months I've been hearing every single day that recession is either already here or that it is imminent. Which one is it?\n",
      "Believe it or not... Bullish\n",
      "Producer price index declines 0.5% in March\n",
      "why are we not mooning? makes no sense\n",
      "Meanwhile oil is up 15 percent this past month. Something isn’t adding up here.\n",
      "Inflation rises 0.1% in March, less than expected\n",
      "Hi, you're on r/Stocks, please make sure your post is related to stocks or the stockmarket or it will most likely get removed as being off-topic/political; feel free to edit it now and be more specific.\n",
      "\n",
      "**To everyone commenting:**  Please focus on how this affects the stock market or specific stocks or it will be removed as being off-topic/political.\n",
      "\n",
      "If you're interested in just politics, see our wiki on [\"relevant subreddits\"](https://www.reddit.com/r/stocks/wiki/index) and post to those Reddit communities instead without linking back here, thanks!\n",
      "\n",
      "*I am a bot, and this action was performed automatically. Please [contact the moderators of this subreddit](/message/compose/?to=/r/stocks) if you have any questions or concerns.*\n",
      "Stocks are pumping pre-market\n"
     ]
    }
   ],
   "source": [
    "# Get the top comments and most upvoted\n",
    "\n",
    "for post in subreddit_stocks.hot(limit = 5):\n",
    "    print(post.title)\n",
    "    submission = reddit.submission(post.id)\n",
    "    \n",
    "    counter = 0 # print top 2 comments per title\n",
    "    for comment in submission.comments:\n",
    "        if comment.body == '[deleted]':\n",
    "            pass\n",
    "        else print(comment.body)\n",
    "        counter +=1\n",
    "        if counter == 2:\n",
    "            break\n",
    "    "
   ]
  },
  {
   "cell_type": "markdown",
   "id": "4f9ce86c",
   "metadata": {},
   "source": [
    "## Generate Prompts"
   ]
  },
  {
   "cell_type": "code",
   "execution_count": 13,
   "id": "cdb30625",
   "metadata": {},
   "outputs": [],
   "source": [
    "# Get titles and comments\n",
    "\n",
    "def get_titles_and_comments(subreddit = 'stocks', limit = 7, num_comments = 3, skip_first = 2):\n",
    "    subreddit = reddit.subreddit(subreddit)\n",
    "    title_and_comments = {}\n",
    "    for counter, post in enumerate(subreddit.hot(limit = limit)):\n",
    "        if counter < skip_first:\n",
    "            continue\n",
    "        \n",
    "        counter += (1-skip_first)\n",
    "        title_and_comments[counter] = \"\"\n",
    "        submission = reddit.submission(post.id)\n",
    "        title = post.title\n",
    "        \n",
    "        title_and_comments[counter] += 'Title: '+title+\"\\n\\n\"\n",
    "        title_and_comments[counter] += 'Comments: \\n\\n'\n",
    "        \n",
    "        comment_counter = 0\n",
    "        for comment in submission.comments:\n",
    "            if not comment.body == '[deleted]':\n",
    "                title_and_comments[counter] += comment.body+\"\\n\"\n",
    "                comment_counter +=1\n",
    "            if comment_counter == num_comments:\n",
    "                break\n",
    "                \n",
    "    return title_and_comments\n",
    "                "
   ]
  },
  {
   "cell_type": "code",
   "execution_count": 14,
   "id": "749e5a21",
   "metadata": {},
   "outputs": [
    {
     "data": {
      "text/plain": [
       "{1: \"Title: Fed expects banking crisis to cause a recession this year, minutes show\\n\\nComments: \\n\\nbro for the past 6 months I've been hearing every single day that recession is either already here or that it is imminent. Which one is it?\\nOk so as Brit I am expecting a full on recession in the U.K\\nBelieve it or not... Bullish\\n\",\n",
       " 2: 'Title: Producer price index declines 0.5% in March\\n\\nComments: \\n\\nwhy are we not mooning? makes no sense\\nMeanwhile oil is up 15 percent this past month. Something isn’t adding up here.\\nHahah April will have much higher inflation all fronts because energy is going up A LOT\\n',\n",
       " 3: 'Title: Inflation rises 0.1% in March, less than expected\\n\\nComments: \\n\\nHi, you\\'re on r/Stocks, please make sure your post is related to stocks or the stockmarket or it will most likely get removed as being off-topic/political; feel free to edit it now and be more specific.\\n\\n**To everyone commenting:**  Please focus on how this affects the stock market or specific stocks or it will be removed as being off-topic/political.\\n\\nIf you\\'re interested in just politics, see our wiki on [\"relevant subreddits\"](https://www.reddit.com/r/stocks/wiki/index) and post to those Reddit communities instead without linking back here, thanks!\\n\\n*I am a bot, and this action was performed automatically. Please [contact the moderators of this subreddit](/message/compose/?to=/r/stocks) if you have any questions or concerns.*\\nStocks are pumping pre-market\\nActual report: https://www.bls.gov/news.release/cpi.nr0.htm\\n',\n",
       " 4: \"Title: Where should I start if I want to understand the EV industry better?\\n\\nComments: \\n\\nWelcome to r/stocks!\\n\\nFor stock recommendations please see our portfolio sticky, sort by hot, it's the first sticky, or see [past portfolio stickies here.](https://www.reddit.com/r/stocks/search?q=author%3Aautomoderator+title%3A%22Rate+My+Portfolio%22&restrict_sr=on&sort=new&t=all)\\n\\nFor beginner advice, brokerage info, book recommendations, even advanced topics and more, please read our [Wiki here.](https://www.reddit.com/r/stocks/wiki/index)\\n\\nIf you're wondering **why a stock moved** a certain way, check out [Finviz](https://finviz.com/quote.ashx?t=spy) which aggregates the most news for almost every stock, but also see [Reuters](https://www.reuters.com/), and even [Yahoo Finance](https://finance.yahoo.com/).\\n\\nAlso include *some* [due diligence](https://www.investopedia.com/terms/d/duediligence.asp) to this post or it may be removed if it's low effort.\\n\\n*I am a bot, and this action was performed automatically. Please [contact the moderators of this subreddit](/message/compose/?to=/r/stocks) if you have any questions or concerns.*\\nYou might want to examine your own biases. You say you know nothing and then also have conviction this is the next big thing. Which is it?\\n2019 called and wants his hype back\\n\",\n",
       " 5: 'Title: Buffett says US bank deposits are safe and the government would backstop all of them if necessary\\n\\nComments: \\n\\nHis million dollar bet is the same as me betting a penny.\\nHe’d put a million of his own money to bet it doesn’t happen 🤣 says a guy worth $100 billion..sure bud sure\\n\"An infinite amount of cash\"\\n'}"
      ]
     },
     "execution_count": 14,
     "metadata": {},
     "output_type": "execute_result"
    }
   ],
   "source": [
    "titles_and_comments = get_titles_and_comments()\n",
    "titles_and_comments"
   ]
  },
  {
   "cell_type": "code",
   "execution_count": 15,
   "id": "8bb1638c",
   "metadata": {},
   "outputs": [],
   "source": [
    "# Create prompt\n",
    "\n",
    "def create_prompt(title_and_comments):\n",
    "    task = \"Return the stock ticker or company name mentioned in the following title and comments and classify the sentiment around the company as positive, negative or neutral. If no ticker or company is mentioned write 'No company mentioned'\\n\\n\"\n",
    "    \n",
    "    return task+title_and_comments"
   ]
  },
  {
   "cell_type": "code",
   "execution_count": 16,
   "id": "547154bd",
   "metadata": {},
   "outputs": [
    {
     "name": "stdout",
     "output_type": "stream",
     "text": [
      "Title: Fed expects banking crisis to cause a recession this year, minutes show\n",
      "\n",
      "Comments: \n",
      "\n",
      "bro for the past 6 months I've been hearing every single day that recession is either already here or that it is imminent. Which one is it?\n",
      "Ok so as Brit I am expecting a full on recession in the U.K\n",
      "Believe it or not... Bullish\n",
      "\n"
     ]
    }
   ],
   "source": [
    "# Test\n",
    "print(titles_and_comments[1])"
   ]
  },
  {
   "cell_type": "code",
   "execution_count": 17,
   "id": "1512a487",
   "metadata": {},
   "outputs": [
    {
     "name": "stdout",
     "output_type": "stream",
     "text": [
      "Return the stock ticker or company name mentioned in the following title and comments and classify the sentiment around the company as positive, negative or neutral. If no ticker or company is mentioned write 'No company mentioned'\n",
      "\n",
      "Title: Fed expects banking crisis to cause a recession this year, minutes show\n",
      "\n",
      "Comments: \n",
      "\n",
      "bro for the past 6 months I've been hearing every single day that recession is either already here or that it is imminent. Which one is it?\n",
      "Ok so as Brit I am expecting a full on recession in the U.K\n",
      "Believe it or not... Bullish\n",
      "\n"
     ]
    }
   ],
   "source": [
    "print(create_prompt(titles_and_comments[1]))"
   ]
  },
  {
   "cell_type": "code",
   "execution_count": 21,
   "id": "8b272e56",
   "metadata": {},
   "outputs": [
    {
     "name": "stdout",
     "output_type": "stream",
     "text": [
      "Title: Fed expects banking crisis to cause a recession this year, minutes show\n",
      "\n",
      "Comments: \n",
      "\n",
      "bro for the past 6 months I've been hearing every single day that recession is either already here or that it is imminent. Which one is it?\n",
      "Ok so as Brit I am expecting a full on recession in the U.K\n",
      "Believe it or not... Bullish\n",
      "\n",
      "Sentiment Report from OpenAI: \n",
      "No company mentioned. Neutral\n",
      "-----------------------------\n",
      "Title: Producer price index declines 0.5% in March\n",
      "\n",
      "Comments: \n",
      "\n",
      "why are we not mooning? makes no sense\n",
      "Meanwhile oil is up 15 percent this past month. Something isn’t adding up here.\n",
      "Hahah April will have much higher inflation all fronts because energy is going up A LOT\n",
      "\n",
      "Sentiment Report from OpenAI: \n",
      "No company mentioned. Neutral sentiment.\n",
      "-----------------------------\n",
      "Title: Inflation rises 0.1% in March, less than expected\n",
      "\n",
      "Comments: \n",
      "\n",
      "Hi, you're on r/Stocks, please make sure your post is related to stocks or the stockmarket or it will most likely get removed as being off-topic/political; feel free to edit it now and be more specific.\n",
      "\n",
      "**To everyone commenting:**  Please focus on how this affects the stock market or specific stocks or it will be removed as being off-topic/political.\n",
      "\n",
      "If you're interested in just politics, see our wiki on [\"relevant subreddits\"](https://www.reddit.com/r/stocks/wiki/index) and post to those Reddit communities instead without linking back here, thanks!\n",
      "\n",
      "*I am a bot, and this action was performed automatically. Please [contact the moderators of this subreddit](/message/compose/?to=/r/stocks) if you have any questions or concerns.*\n",
      "Stocks are pumping pre-market\n",
      "Actual report: https://www.bls.gov/news.release/cpi.nr0.htm\n",
      "\n",
      "Sentiment Report from OpenAI: \n",
      "No company mentioned.\n",
      "-----------------------------\n",
      "Title: Where should I start if I want to understand the EV industry better?\n",
      "\n",
      "Comments: \n",
      "\n",
      "Welcome to r/stocks!\n",
      "\n",
      "For stock recommendations please see our portfolio sticky, sort by hot, it's the first sticky, or see [past portfolio stickies here.](https://www.reddit.com/r/stocks/search?q=author%3Aautomoderator+title%3A%22Rate+My+Portfolio%22&restrict_sr=on&sort=new&t=all)\n",
      "\n",
      "For beginner advice, brokerage info, book recommendations, even advanced topics and more, please read our [Wiki here.](https://www.reddit.com/r/stocks/wiki/index)\n",
      "\n",
      "If you're wondering **why a stock moved** a certain way, check out [Finviz](https://finviz.com/quote.ashx?t=spy) which aggregates the most news for almost every stock, but also see [Reuters](https://www.reuters.com/), and even [Yahoo Finance](https://finance.yahoo.com/).\n",
      "\n",
      "Also include *some* [due diligence](https://www.investopedia.com/terms/d/duediligence.asp) to this post or it may be removed if it's low effort.\n",
      "\n",
      "*I am a bot, and this action was performed automatically. Please [contact the moderators of this subreddit](/message/compose/?to=/r/stocks) if you have any questions or concerns.*\n",
      "You might want to examine your own biases. You say you know nothing and then also have conviction this is the next big thing. Which is it?\n",
      "2019 called and wants his hype back\n",
      "\n",
      "Sentiment Report from OpenAI: \n",
      "No company mentioned.\n",
      "-----------------------------\n",
      "Title: Buffett says US bank deposits are safe and the government would backstop all of them if necessary\n",
      "\n",
      "Comments: \n",
      "\n",
      "His million dollar bet is the same as me betting a penny.\n",
      "He’d put a million of his own money to bet it doesn’t happen 🤣 says a guy worth $100 billion..sure bud sure\n",
      "\"An infinite amount of cash\"\n",
      "\n",
      "Sentiment Report from OpenAI: \n",
      "No company mentioned.\n",
      "-----------------------------\n"
     ]
    }
   ],
   "source": [
    "# Function to get sentiment from OpenAI\n",
    "\n",
    "for key, title_with_comments in titles_and_comments.items():\n",
    "    prompt = create_prompt(title_with_comments)\n",
    "    response = openai.Completion.create(engine = 'text-davinci-003',\n",
    "                                       prompt = prompt,\n",
    "                                       max_tokens = 256,\n",
    "                                       temperature = 0,\n",
    "                                       top_p = 1.0)\n",
    "    print(title_with_comments)\n",
    "    print(f\"Sentiment Report from OpenAI: {response['choices'][0]['text']}\")\n",
    "    print('-----------------------------')"
   ]
  }
 ],
 "metadata": {
  "kernelspec": {
   "display_name": "Python 3 (ipykernel)",
   "language": "python",
   "name": "python3"
  },
  "language_info": {
   "codemirror_mode": {
    "name": "ipython",
    "version": 3
   },
   "file_extension": ".py",
   "mimetype": "text/x-python",
   "name": "python",
   "nbconvert_exporter": "python",
   "pygments_lexer": "ipython3",
   "version": "3.8.16"
  }
 },
 "nbformat": 4,
 "nbformat_minor": 5
}

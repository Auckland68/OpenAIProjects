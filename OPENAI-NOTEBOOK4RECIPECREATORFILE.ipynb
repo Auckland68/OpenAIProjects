{
 "cells": [
  {
   "cell_type": "markdown",
   "id": "eb40105d",
   "metadata": {},
   "source": [
    "# OPENAI-NOTEBOOK4  AUTOMATIC RECIPE CREATOR"
   ]
  },
  {
   "cell_type": "markdown",
   "id": "de8cfea9",
   "metadata": {},
   "source": [
    "From course by Jose Portilla\n",
    "\n",
    "Code creates an automatic recipe creator using ChatGPT and images from DALLE"
   ]
  },
  {
   "cell_type": "code",
   "execution_count": 43,
   "id": "8450f8b2",
   "metadata": {},
   "outputs": [],
   "source": [
    "import os\n",
    "import openai\n",
    "import re\n",
    "import requests\n",
    "import shutil"
   ]
  },
  {
   "cell_type": "code",
   "execution_count": 5,
   "id": "2aa6f16a",
   "metadata": {},
   "outputs": [],
   "source": [
    "#os.environ['OPEN_AI_KEY'] = ''\n",
    "openai.api_key = os.getenv('OPEN_AI_KEY')"
   ]
  },
  {
   "cell_type": "markdown",
   "id": "bbee183f",
   "metadata": {},
   "source": [
    "## Generation of Text Using Completion API"
   ]
  },
  {
   "cell_type": "code",
   "execution_count": 25,
   "id": "ece6c90a",
   "metadata": {},
   "outputs": [],
   "source": [
    "# Create the prompt\n",
    "\n",
    "def create_dish_prompt(ingredients):\n",
    "    prompt = f\"Create a detailed recipe using only the following ingredients: {', '.join(ingredients)}.\\n\"\\\n",
    "            +f\"Additionally, assign a title starting with 'Recipe Title: ' to this recipe.\"\n",
    "    return prompt"
   ]
  },
  {
   "cell_type": "code",
   "execution_count": 26,
   "id": "1fabc81a",
   "metadata": {},
   "outputs": [
    {
     "name": "stdout",
     "output_type": "stream",
     "text": [
      "Create a detailed recipe using only the following ingredients: cheese, mushroom, bacon.\n",
      "Additionally, assign a title starting with 'Recipe Title: ' to this recipe.\n"
     ]
    }
   ],
   "source": [
    "# Test the prompt\n",
    "\n",
    "print(create_dish_prompt(['cheese','mushroom','bacon']))"
   ]
  },
  {
   "cell_type": "code",
   "execution_count": 27,
   "id": "33c1d425",
   "metadata": {},
   "outputs": [
    {
     "data": {
      "text/plain": [
       "\"Create a detailed recipe using only the following ingredients: cheese, mushroom, bacon.\\nAdditionally, assign a title starting with 'Recipe Title: ' to this recipe.\""
      ]
     },
     "execution_count": 27,
     "metadata": {},
     "output_type": "execute_result"
    }
   ],
   "source": [
    "# Run function\n",
    "ing = ['cheese', 'mushroom', 'bacon']\n",
    "prompt = create_dish_prompt(ing)\n",
    "prompt"
   ]
  },
  {
   "cell_type": "code",
   "execution_count": 28,
   "id": "9fe8353f",
   "metadata": {},
   "outputs": [],
   "source": [
    "# Create the response\n",
    "response = openai.Completion.create(engine = 'text-davinci-003', \n",
    "                                   prompt = prompt,\n",
    "                                   max_tokens = 512,\n",
    "                                   temperature = 0.7)"
   ]
  },
  {
   "cell_type": "code",
   "execution_count": 29,
   "id": "f5128b9c",
   "metadata": {},
   "outputs": [
    {
     "name": "stdout",
     "output_type": "stream",
     "text": [
      "\n",
      "\n",
      "Recipe Title: Cheesy Mushroom Bacon Skillet\n",
      "\n",
      "Ingredients:\n",
      "- 4 slices of bacon, cut into small pieces\n",
      "- 1/2 cup of mushrooms, sliced\n",
      "- 1/2 cup of shredded cheese (cheddar, mozzarella, etc.)\n",
      "\n",
      "Instructions:\n",
      "1. In a skillet over medium-high heat, cook bacon pieces until crisp, stirring occasionally.\n",
      "2. Once bacon is cooked, add mushrooms and stir to combine. Cook until mushrooms are tender, about 5 minutes.\n",
      "3. Reduce heat to low and add shredded cheese. Stir until cheese is melted and everything is combined.\n",
      "4. Serve hot. Enjoy!\n"
     ]
    }
   ],
   "source": [
    "# Print the recipe\n",
    "print(response['choices'][0]['text'])"
   ]
  },
  {
   "cell_type": "code",
   "execution_count": 32,
   "id": "71f2007b",
   "metadata": {},
   "outputs": [
    {
     "data": {
      "text/plain": [
       "'\\n\\nRecipe Title: Cheesy Mushroom Bacon Skillet\\n\\nIngredients:\\n- 4 slices of bacon, cut into small pieces\\n- 1/2 cup of mushrooms, sliced\\n- 1/2 cup of shredded cheese (cheddar, mozzarella, etc.)\\n\\nInstructions:\\n1. In a skillet over medium-high heat, cook bacon pieces until crisp, stirring occasionally.\\n2. Once bacon is cooked, add mushrooms and stir to combine. Cook until mushrooms are tender, about 5 minutes.\\n3. Reduce heat to low and add shredded cheese. Stir until cheese is melted and everything is combined.\\n4. Serve hot. Enjoy!'"
      ]
     },
     "execution_count": 32,
     "metadata": {},
     "output_type": "execute_result"
    }
   ],
   "source": [
    "recipe = response['choices'][0]['text']\n",
    "recipe"
   ]
  },
  {
   "cell_type": "code",
   "execution_count": 40,
   "id": "124f486f",
   "metadata": {},
   "outputs": [],
   "source": [
    "# Clean up the result to extract the title to send to DALLE\n",
    "\n",
    "def extract_title(prompt):\n",
    "    return re.findall('^.*Recipe Title: .*$', prompt, re.MULTILINE)[0].strip().split('Recipe Title: ')[-1]"
   ]
  },
  {
   "cell_type": "code",
   "execution_count": 41,
   "id": "4a378c1e",
   "metadata": {},
   "outputs": [
    {
     "data": {
      "text/plain": [
       "'Cheesy Mushroom Bacon Skillet'"
      ]
     },
     "execution_count": 41,
     "metadata": {},
     "output_type": "execute_result"
    }
   ],
   "source": [
    "extract_title(recipe)"
   ]
  },
  {
   "cell_type": "code",
   "execution_count": 51,
   "id": "12393c8f",
   "metadata": {},
   "outputs": [],
   "source": [
    "recipe_title = extract_title(recipe)"
   ]
  },
  {
   "cell_type": "code",
   "execution_count": 52,
   "id": "c5c8600d",
   "metadata": {},
   "outputs": [
    {
     "data": {
      "text/plain": [
       "'Cheesy Mushroom Bacon Skillet, professional food photography, 15mm, studio lighting'"
      ]
     },
     "execution_count": 52,
     "metadata": {},
     "output_type": "execute_result"
    }
   ],
   "source": [
    "# Trial a second prompt with style images\n",
    "\n",
    "def dalle2_prompt(recipe_title):\n",
    "    prompt_dalle2 = f\"{recipe_title}, professional food photography, 15mm, studio lighting\"\n",
    "    return prompt_dalle2\n",
    "\n",
    "dalle2_prompt(recipe_title)"
   ]
  },
  {
   "cell_type": "markdown",
   "id": "fa2f717d",
   "metadata": {},
   "source": [
    "## Send to DALLE"
   ]
  },
  {
   "cell_type": "markdown",
   "id": "efdb8a30",
   "metadata": {},
   "source": [
    "* Can request 256, 512 or 1024 pixels for images (larger images cost more)\n",
    "* Can ask for up to 10 images back from the Image API call\n",
    "* Can use images as a prompt as well as text - open(\"pic.png\", 'rb')"
   ]
  },
  {
   "cell_type": "code",
   "execution_count": 53,
   "id": "f3cd4a31",
   "metadata": {},
   "outputs": [],
   "source": [
    "# Obtain the image\n",
    "image_response = openai.Image.create(prompt = dalle2_prompt(recipe_title),\n",
    "                                    n = 1,\n",
    "                                    size = '512x512'\n",
    "                                    )"
   ]
  },
  {
   "cell_type": "code",
   "execution_count": 54,
   "id": "a3631cd2",
   "metadata": {},
   "outputs": [],
   "source": [
    "image_url = image_response['data'][0]['url']"
   ]
  },
  {
   "cell_type": "code",
   "execution_count": 55,
   "id": "fa667b0f",
   "metadata": {},
   "outputs": [],
   "source": [
    "# Save the image\n",
    "\n",
    "def save_image(image_url, file_name):\n",
    "    image_res = requests.get(image_url, stream = True)\n",
    "    if image_res.status_code == 200: # check ok to download\n",
    "        with open(file_name, 'wb') as f:\n",
    "            shutil.copyfileobj(image_res.raw, f) # image as raw info\n",
    "    else:\n",
    "        print('ERROR LOADING IMAGE')\n",
    "        \n",
    "    return image_res.status_code\n",
    "            "
   ]
  },
  {
   "cell_type": "code",
   "execution_count": 56,
   "id": "0f9380df",
   "metadata": {},
   "outputs": [
    {
     "data": {
      "text/plain": [
       "200"
      ]
     },
     "execution_count": 56,
     "metadata": {},
     "output_type": "execute_result"
    }
   ],
   "source": [
    "save_image(image_url, 'example_download.png')"
   ]
  }
 ],
 "metadata": {
  "kernelspec": {
   "display_name": "Python 3 (ipykernel)",
   "language": "python",
   "name": "python3"
  },
  "language_info": {
   "codemirror_mode": {
    "name": "ipython",
    "version": 3
   },
   "file_extension": ".py",
   "mimetype": "text/x-python",
   "name": "python",
   "nbconvert_exporter": "python",
   "pygments_lexer": "ipython3",
   "version": "3.8.16"
  }
 },
 "nbformat": 4,
 "nbformat_minor": 5
}

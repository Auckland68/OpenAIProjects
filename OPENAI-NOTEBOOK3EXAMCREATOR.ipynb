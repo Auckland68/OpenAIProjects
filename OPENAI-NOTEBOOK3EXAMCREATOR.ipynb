{
 "cells": [
  {
   "cell_type": "markdown",
   "id": "eb40105d",
   "metadata": {},
   "source": [
    "# OPENAI-NOTEBOOK3  AUTOMATIC EXAM CREATOR"
   ]
  },
  {
   "cell_type": "code",
   "execution_count": 1,
   "id": "8450f8b2",
   "metadata": {},
   "outputs": [],
   "source": [
    "import os\n",
    "import openai"
   ]
  },
  {
   "cell_type": "code",
   "execution_count": 23,
   "id": "2aa6f16a",
   "metadata": {},
   "outputs": [],
   "source": [
    "#os.environ['OPEN_AI_KEY'] = ''\n",
    "openai.api_key = os.getenv('OPEN_AI_KEY')"
   ]
  },
  {
   "cell_type": "markdown",
   "id": "bbee183f",
   "metadata": {},
   "source": [
    "## Prompt Design"
   ]
  },
  {
   "cell_type": "code",
   "execution_count": 26,
   "id": "6d1e6380",
   "metadata": {},
   "outputs": [],
   "source": [
    "# Create prompt for fake company\n",
    "prompt = 'Give me details about the technology start-up mimi and pimo'"
   ]
  },
  {
   "cell_type": "code",
   "execution_count": 27,
   "id": "c57c95fc",
   "metadata": {},
   "outputs": [],
   "source": [
    "# Set up response with the prompt\n",
    "response = openai.Completion.create(engine = 'text-davinci-003', \n",
    "                                    prompt = prompt, \n",
    "                                    max_tokens = 150, \n",
    "                                    temperature = 0.6)"
   ]
  },
  {
   "cell_type": "code",
   "execution_count": 28,
   "id": "3a397629",
   "metadata": {},
   "outputs": [
    {
     "name": "stdout",
     "output_type": "stream",
     "text": [
      "\n",
      "\n",
      "Mimi and Pimo is a technology start-up company that creates intelligent technology to help people live healthier and more sustainable lifestyles. Founded in 2019, the company is based in Los Angeles, California. The company's mission is to create technology that helps people make better decisions about their health and the environment. The company focuses on developing products that are easy to use and that provide meaningful insights about people's health and the environment. The company's flagship product is the Mimi and Pimo app, which helps people track their physical activity, nutrition, and environmental impact. The app allows users to set goals, track their progress, and get personalized advice on how to improve their health and the environment. Additionally, the company offers a range of\n"
     ]
    }
   ],
   "source": [
    "# Print the response detailing the fake company\n",
    "print(response['choices'][0]['text'])"
   ]
  },
  {
   "cell_type": "markdown",
   "id": "a95b0e8d",
   "metadata": {},
   "source": [
    "This is model hallucination"
   ]
  },
  {
   "cell_type": "code",
   "execution_count": null,
   "id": "ed6bd447",
   "metadata": {},
   "outputs": [],
   "source": [
    "# Create prompt for fake company with a requirement for the model to be sure it exists\n",
    "prompt = 'Give me details about the technology start-up mimi and pimo. Only answer if you are 100% sure company exists, otherwise answer dont know'"
   ]
  },
  {
   "cell_type": "code",
   "execution_count": null,
   "id": "a6243681",
   "metadata": {},
   "outputs": [],
   "source": [
    "# Set up response with the prompt\n",
    "response = openai.Completion.create(engine = 'text-davinci-003', \n",
    "                                    prompt = prompt, \n",
    "                                    max_tokens = 150, \n",
    "                                    temperature = 0.7)"
   ]
  },
  {
   "cell_type": "code",
   "execution_count": null,
   "id": "6d12819a",
   "metadata": {},
   "outputs": [],
   "source": [
    "# Print the response detailing the fake company\n",
    "print(response['choices'][0]['text'])"
   ]
  },
  {
   "cell_type": "markdown",
   "id": "8184d1f7",
   "metadata": {},
   "source": [
    "This returns different information but still not correct"
   ]
  },
  {
   "cell_type": "markdown",
   "id": "8d52e2d1",
   "metadata": {},
   "source": [
    "## Create Quiz Prompt"
   ]
  },
  {
   "cell_type": "code",
   "execution_count": 44,
   "id": "ed943839",
   "metadata": {},
   "outputs": [],
   "source": [
    "# Create the test prompt\n",
    "def create_test_prompt(topic, num_questions, num_possible_answers):\n",
    "    prompt = f\"Create a multiple choice quiz on the topic of {topic} consisting of {num_questions} questions. \" \\\n",
    "    + f\"Each question should have {num_possible_answers} options. \"\\\n",
    "    + f\"Also include the correct answer for each question using the starting string 'Correct Answer: '.\"\n",
    "    return prompt"
   ]
  },
  {
   "cell_type": "code",
   "execution_count": 45,
   "id": "59871cf7",
   "metadata": {},
   "outputs": [
    {
     "data": {
      "text/plain": [
       "\"Create a multiple choice quiz on the topic of python consisting of 4 questions. Each question should have 4 options. Also include the correct answer for each question using the starting string 'Correct Answer: '.\""
      ]
     },
     "execution_count": 45,
     "metadata": {},
     "output_type": "execute_result"
    }
   ],
   "source": [
    "create_test_prompt(\"python\", 4, 4)"
   ]
  },
  {
   "cell_type": "code",
   "execution_count": 52,
   "id": "1be33ba4",
   "metadata": {},
   "outputs": [],
   "source": [
    "prompt = create_test_prompt(\"australian history\", 4, 4)"
   ]
  },
  {
   "cell_type": "code",
   "execution_count": 53,
   "id": "317cecea",
   "metadata": {},
   "outputs": [],
   "source": [
    "# Set up response with the prompt\n",
    "response = openai.Completion.create(engine = 'text-davinci-003', \n",
    "                                    prompt = prompt, \n",
    "                                    max_tokens = 250, \n",
    "                                    temperature = 0.7)"
   ]
  },
  {
   "cell_type": "code",
   "execution_count": 54,
   "id": "bb88f394",
   "metadata": {},
   "outputs": [
    {
     "name": "stdout",
     "output_type": "stream",
     "text": [
      "\n",
      "\n",
      "Question 1: When did Australia become a Commonwealth?\n",
      "A. 1788 \n",
      "B. 1901 \n",
      "C. 1776 \n",
      "D. 1803\n",
      "\n",
      "Correct Answer: B. 1901\n",
      "\n",
      "Question 2: What is the name of Australia's first Prime Minister?\n",
      "A. John Howard\n",
      "B. Robert Menzies\n",
      "C. Edmund Barton\n",
      "D. Gough Whitlam\n",
      "\n",
      "Correct Answer: C. Edmund Barton\n",
      "\n",
      "Question 3: What year did the first European settlement in Australia take place?\n",
      "A. 1804\n",
      "B. 1788\n",
      "C. 1606\n",
      "D. 1776\n",
      "\n",
      "Correct Answer: B. 1788\n",
      "\n",
      "Question 4: What year did Australia become a republic?\n",
      "A. 1901\n",
      "B. 1986\n",
      "C. 1947\n",
      "D. 1999\n",
      "\n",
      "Correct Answer: D. 1999\n"
     ]
    }
   ],
   "source": [
    "# Print the response \n",
    "print(response['choices'][0]['text'])"
   ]
  },
  {
   "cell_type": "markdown",
   "id": "981b35d0",
   "metadata": {},
   "source": [
    "## Q & A Extraction"
   ]
  },
  {
   "cell_type": "code",
   "execution_count": 55,
   "id": "90cd764d",
   "metadata": {},
   "outputs": [
    {
     "data": {
      "text/plain": [
       "\"\\n\\nQuestion 1: When did Australia become a Commonwealth?\\nA. 1788 \\nB. 1901 \\nC. 1776 \\nD. 1803\\n\\nCorrect Answer: B. 1901\\n\\nQuestion 2: What is the name of Australia's first Prime Minister?\\nA. John Howard\\nB. Robert Menzies\\nC. Edmund Barton\\nD. Gough Whitlam\\n\\nCorrect Answer: C. Edmund Barton\\n\\nQuestion 3: What year did the first European settlement in Australia take place?\\nA. 1804\\nB. 1788\\nC. 1606\\nD. 1776\\n\\nCorrect Answer: B. 1788\\n\\nQuestion 4: What year did Australia become a republic?\\nA. 1901\\nB. 1986\\nC. 1947\\nD. 1999\\n\\nCorrect Answer: D. 1999\""
      ]
     },
     "execution_count": 55,
     "metadata": {},
     "output_type": "execute_result"
    }
   ],
   "source": [
    "response['choices'][0]['text']"
   ]
  },
  {
   "cell_type": "markdown",
   "id": "f3088ae9",
   "metadata": {},
   "source": [
    "The response has newline characters which we can take advantage of"
   ]
  },
  {
   "cell_type": "code",
   "execution_count": 58,
   "id": "f07f351b",
   "metadata": {},
   "outputs": [],
   "source": [
    "# Function to extract the questions for the students only without the answers\n",
    "def create_student_view(test, num_questions):\n",
    "    student_view = {1:''}\n",
    "    question_number = 1\n",
    "    for line in test.split(\"\\n\"):\n",
    "        if not line.startswith(\"Correct Answer\"):\n",
    "            student_view[question_number] +=line+'\\n'\n",
    "        else:\n",
    "            if question_number < num_questions:\n",
    "                question_number+=1\n",
    "                student_view[question_number] = ''\n",
    "    return student_view      "
   ]
  },
  {
   "cell_type": "code",
   "execution_count": 60,
   "id": "e9996749",
   "metadata": {},
   "outputs": [
    {
     "data": {
      "text/plain": [
       "{1: '\\n\\nQuestion 1: When did Australia become a Commonwealth?\\nA. 1788 \\nB. 1901 \\nC. 1776 \\nD. 1803\\n\\n',\n",
       " 2: \"\\nQuestion 2: What is the name of Australia's first Prime Minister?\\nA. John Howard\\nB. Robert Menzies\\nC. Edmund Barton\\nD. Gough Whitlam\\n\\n\",\n",
       " 3: '\\nQuestion 3: What year did the first European settlement in Australia take place?\\nA. 1804\\nB. 1788\\nC. 1606\\nD. 1776\\n\\n',\n",
       " 4: '\\nQuestion 4: What year did Australia become a republic?\\nA. 1901\\nB. 1986\\nC. 1947\\nD. 1999\\n\\n'}"
      ]
     },
     "execution_count": 60,
     "metadata": {},
     "output_type": "execute_result"
    }
   ],
   "source": [
    "result = create_student_view(response['choices'][0]['text'],4)\n",
    "result"
   ]
  },
  {
   "cell_type": "code",
   "execution_count": 61,
   "id": "88fbfa98",
   "metadata": {},
   "outputs": [
    {
     "name": "stdout",
     "output_type": "stream",
     "text": [
      "\n",
      "\n",
      "Question 1: When did Australia become a Commonwealth?\n",
      "A. 1788 \n",
      "B. 1901 \n",
      "C. 1776 \n",
      "D. 1803\n",
      "\n",
      "\n",
      "\n",
      "Question 2: What is the name of Australia's first Prime Minister?\n",
      "A. John Howard\n",
      "B. Robert Menzies\n",
      "C. Edmund Barton\n",
      "D. Gough Whitlam\n",
      "\n",
      "\n",
      "\n",
      "Question 3: What year did the first European settlement in Australia take place?\n",
      "A. 1804\n",
      "B. 1788\n",
      "C. 1606\n",
      "D. 1776\n",
      "\n",
      "\n",
      "\n",
      "Question 4: What year did Australia become a republic?\n",
      "A. 1901\n",
      "B. 1986\n",
      "C. 1947\n",
      "D. 1999\n",
      "\n",
      "\n"
     ]
    }
   ],
   "source": [
    "for key in result:\n",
    "    print(result[key])"
   ]
  },
  {
   "cell_type": "code",
   "execution_count": 69,
   "id": "1bd7242a",
   "metadata": {},
   "outputs": [],
   "source": [
    "# Function to get the answers only\n",
    "def extract_answers(test, num_questions):\n",
    "    answers = {1:''}\n",
    "    question_number = 1\n",
    "    for line in test.split(\"\\n\"):\n",
    "        if line.startswith(\"Correct Answer\"):\n",
    "            answers[question_number] +=line+'\\n'\n",
    "            \n",
    "            if question_number < num_questions:\n",
    "                question_number+=1\n",
    "                answers[question_number] = ''\n",
    "                \n",
    "    return answers     "
   ]
  },
  {
   "cell_type": "code",
   "execution_count": 70,
   "id": "8cac165e",
   "metadata": {},
   "outputs": [
    {
     "data": {
      "text/plain": [
       "{1: 'Correct Answer: B. 1901\\n',\n",
       " 2: 'Correct Answer: C. Edmund Barton\\n',\n",
       " 3: 'Correct Answer: B. 1788\\n',\n",
       " 4: 'Correct Answer: D. 1999\\n'}"
      ]
     },
     "execution_count": 70,
     "metadata": {},
     "output_type": "execute_result"
    }
   ],
   "source": [
    "extract_answers(response['choices'][0]['text'],4)"
   ]
  },
  {
   "cell_type": "markdown",
   "id": "a247c550",
   "metadata": {},
   "source": [
    "## Create the Exam with Grading"
   ]
  },
  {
   "cell_type": "code",
   "execution_count": 104,
   "id": "9ac879a4",
   "metadata": {},
   "outputs": [],
   "source": [
    "student_view = create_student_view(response['choices'][0]['text'],4)\n",
    "correct_answer = extract_answers(response['choices'][0]['text'],4)"
   ]
  },
  {
   "cell_type": "code",
   "execution_count": 105,
   "id": "fb428c37",
   "metadata": {},
   "outputs": [],
   "source": [
    "# Function to take this exam\n",
    "\n",
    "def take(student_view):\n",
    "    student_answers = {}\n",
    "    for question, question_view in student_view.items():\n",
    "        print(question_view)\n",
    "        answer = input(\"Enter your answer: \")\n",
    "        student_answers[question] = answer\n",
    "    return student_answers\n",
    "        "
   ]
  },
  {
   "cell_type": "code",
   "execution_count": 106,
   "id": "3fd6e7c7",
   "metadata": {},
   "outputs": [
    {
     "name": "stdout",
     "output_type": "stream",
     "text": [
      "\n",
      "\n",
      "Question 1: When did Australia become a Commonwealth?\n",
      "A. 1788 \n",
      "B. 1901 \n",
      "C. 1776 \n",
      "D. 1803\n",
      "\n",
      "\n",
      "Enter your answer: A\n",
      "\n",
      "Question 2: What is the name of Australia's first Prime Minister?\n",
      "A. John Howard\n",
      "B. Robert Menzies\n",
      "C. Edmund Barton\n",
      "D. Gough Whitlam\n",
      "\n",
      "\n",
      "Enter your answer: d\n",
      "\n",
      "Question 3: What year did the first European settlement in Australia take place?\n",
      "A. 1804\n",
      "B. 1788\n",
      "C. 1606\n",
      "D. 1776\n",
      "\n",
      "\n",
      "Enter your answer: d\n",
      "\n",
      "Question 4: What year did Australia become a republic?\n",
      "A. 1901\n",
      "B. 1986\n",
      "C. 1947\n",
      "D. 1999\n",
      "\n",
      "\n",
      "Enter your answer: a\n"
     ]
    }
   ],
   "source": [
    "student_answers = take(student_view)"
   ]
  },
  {
   "cell_type": "code",
   "execution_count": 110,
   "id": "70d64fa2",
   "metadata": {},
   "outputs": [],
   "source": [
    "# Function to compare answers to actual answers\n",
    "\n",
    "def grade(correct_answer, student_answers):\n",
    "    correct_answers = 0\n",
    "    for question, answer in student_answers.items():\n",
    "        if answer.upper() == correct_answer[question].upper()[16]:\n",
    "            correct_answers+=1\n",
    "    grade = 100 * correct_answers/len(answers)\n",
    "    \n",
    "    if grade < 60:\n",
    "        passed = \"You did not pass\"\n",
    "    else:\n",
    "        passed = \"You passed!\"\n",
    "        \n",
    "    return f\"{correct_answers}/{len(answers)} correct! You got {grade} grade, {passed}\"\n",
    "            "
   ]
  },
  {
   "cell_type": "code",
   "execution_count": 109,
   "id": "59ca2f9a",
   "metadata": {},
   "outputs": [
    {
     "data": {
      "text/plain": [
       "'0/4 correct! You got 0.0 grade, You did not pass'"
      ]
     },
     "execution_count": 109,
     "metadata": {},
     "output_type": "execute_result"
    }
   ],
   "source": [
    "grade(answers, student_answers)"
   ]
  }
 ],
 "metadata": {
  "kernelspec": {
   "display_name": "Python 3 (ipykernel)",
   "language": "python",
   "name": "python3"
  },
  "language_info": {
   "codemirror_mode": {
    "name": "ipython",
    "version": 3
   },
   "file_extension": ".py",
   "mimetype": "text/x-python",
   "name": "python",
   "nbconvert_exporter": "python",
   "pygments_lexer": "ipython3",
   "version": "3.8.16"
  }
 },
 "nbformat": 4,
 "nbformat_minor": 5
}

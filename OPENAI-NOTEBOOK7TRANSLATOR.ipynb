{
 "cells": [
  {
   "cell_type": "code",
   "execution_count": 24,
   "id": "f696aa24",
   "metadata": {},
   "outputs": [],
   "source": [
    "import requests\n",
    "import bs4\n",
    "import openai\n",
    "import os"
   ]
  },
  {
   "cell_type": "code",
   "execution_count": 6,
   "id": "df75d83d",
   "metadata": {},
   "outputs": [
    {
     "name": "stdout",
     "output_type": "stream",
     "text": [
      "What country are you interested in for news?France\n"
     ]
    },
    {
     "data": {
      "text/plain": [
       "'France'"
      ]
     },
     "execution_count": 6,
     "metadata": {},
     "output_type": "execute_result"
    }
   ],
   "source": [
    "country = input(\"What country are you interested in for news?\")\n",
    "country"
   ]
  },
  {
   "cell_type": "code",
   "execution_count": 8,
   "id": "2d2624a3",
   "metadata": {},
   "outputs": [
    {
     "data": {
      "text/plain": [
       "'https://lemonde.fr'"
      ]
     },
     "execution_count": 8,
     "metadata": {},
     "output_type": "execute_result"
    }
   ],
   "source": [
    "country_newspapers = {\"Spain\":\"https://elpais.com\",\n",
    "                     \"France\":\"https://lemonde.fr\"}\n",
    "country_newspapers[country]"
   ]
  },
  {
   "cell_type": "code",
   "execution_count": 42,
   "id": "0f047db5",
   "metadata": {},
   "outputs": [],
   "source": [
    "url = country_newspapers[country]\n",
    "result = requests.get(url)\n",
    "#result.text"
   ]
  },
  {
   "cell_type": "code",
   "execution_count": 15,
   "id": "6181ceff",
   "metadata": {},
   "outputs": [
    {
     "name": "stdout",
     "output_type": "stream",
     "text": [
      "Transports : l’Allemagne lance l’abonnement unique à 49 euros\n",
      "Jeux vidéo : le Royaume-Uni se met en travers de la fusion de Microsoft et Activision\n",
      "Matières premières : « L’or sort de l’ordinaire par rapport aux autres commodités »\n"
     ]
    }
   ],
   "source": [
    "tag = 'article__title-label'\n",
    "soup = bs4.BeautifulSoup(result.text,'lxml')\n",
    "\n",
    "\n",
    "for item in soup.select('.article__title')[:3]:\n",
    "    print(item.getText())"
   ]
  },
  {
   "cell_type": "code",
   "execution_count": 17,
   "id": "6cf4b5d7",
   "metadata": {},
   "outputs": [],
   "source": [
    "# Restate the newspaper target\n",
    "country_newspapers = {\"Spain\":(\"https://elpais.com\",'.c_t'),\n",
    "                     \"France\":(\"https://lemonde.fr/','.article__title-label\")}"
   ]
  },
  {
   "cell_type": "code",
   "execution_count": 39,
   "id": "c75a3692",
   "metadata": {},
   "outputs": [],
   "source": [
    "# Function to take in information for the prompt to OpenAI\n",
    "\n",
    "def create_prompt():\n",
    "    country = input(\"Choose country for news summary\")\n",
    "    try:\n",
    "        url, tag = country_newspapers[country]\n",
    "    except:\n",
    "        print('Country not supported')\n",
    "        return\n",
    "    \n",
    "    results = requests.get(url)\n",
    "    soup = bs4.BeautifulSoup(results.text,'lxml')\n",
    "    \n",
    "    country_headlines = ''\n",
    "    for item in soup.select(tag)[:3]:\n",
    "        country_headlines += item.getText()+'\\n'\n",
    "               \n",
    "    prompt = \"Detect the language of the news headlines below, then translate a summary of the headlines to English in a conversational tone.\\n\"\n",
    "    return prompt + country_headlines\n"
   ]
  },
  {
   "cell_type": "code",
   "execution_count": 40,
   "id": "97f9e269",
   "metadata": {},
   "outputs": [
    {
     "name": "stdout",
     "output_type": "stream",
     "text": [
      "Choose country for news summarySpain\n"
     ]
    },
    {
     "data": {
      "text/plain": [
       "'Detect the language of the news headlines below, then translate a summary of the headlines to English in a conversational tone.\\nDiario de un cura pederasta: “Hice daño a demasiados”\\nLas huelgas salariales agravan la crisis de la justicia\\n\\nEl avispero de los regadíos de\\xa0Doñana\\n'"
      ]
     },
     "execution_count": 40,
     "metadata": {},
     "output_type": "execute_result"
    }
   ],
   "source": [
    "prompt = create_prompt()\n",
    "prompt"
   ]
  },
  {
   "cell_type": "code",
   "execution_count": 41,
   "id": "0da22e71",
   "metadata": {},
   "outputs": [
    {
     "name": "stdout",
     "output_type": "stream",
     "text": [
      "Detect the language of the news headlines below, then translate a summary of the headlines to English in a conversational tone.\n",
      "Diario de un cura pederasta: “Hice daño a demasiados”\n",
      "Las huelgas salariales agravan la crisis de la justicia\n",
      "\n",
      "El avispero de los regadíos de Doñana\n",
      "\n"
     ]
    }
   ],
   "source": [
    "print(prompt)"
   ]
  },
  {
   "cell_type": "code",
   "execution_count": 31,
   "id": "1cb69bb6",
   "metadata": {},
   "outputs": [],
   "source": [
    "#os.environ['OPEN_AI_KEY'] = ''"
   ]
  },
  {
   "cell_type": "code",
   "execution_count": 34,
   "id": "0bca54d7",
   "metadata": {},
   "outputs": [],
   "source": [
    "openai.api_key = os.getenv('OPEN_AI_KEY')"
   ]
  },
  {
   "cell_type": "code",
   "execution_count": 37,
   "id": "cb5f972e",
   "metadata": {},
   "outputs": [],
   "source": [
    "response = openai.Completion.create(model = 'text-davinci-003',\n",
    "                                   prompt = prompt,\n",
    "                                   max_tokens = 200,\n",
    "                                   temperature = 0.1,\n",
    "                                   top_p = 1.0\n",
    "                                   \n",
    "                                   )"
   ]
  },
  {
   "cell_type": "code",
   "execution_count": 38,
   "id": "40b3ab07",
   "metadata": {},
   "outputs": [
    {
     "name": "stdout",
     "output_type": "stream",
     "text": [
      "\n",
      "Language: Spanish\n",
      "\n",
      "Translation: A priest's diary reveals he caused harm to many people. Wage strikes are worsening the justice crisis. The Doñana irrigation system is causing a stir.\n"
     ]
    }
   ],
   "source": [
    "print(response['choices'][0]['text'])"
   ]
  },
  {
   "cell_type": "code",
   "execution_count": null,
   "id": "f85118b1",
   "metadata": {},
   "outputs": [],
   "source": []
  },
  {
   "cell_type": "code",
   "execution_count": null,
   "id": "1b80c3c1",
   "metadata": {},
   "outputs": [],
   "source": []
  },
  {
   "cell_type": "code",
   "execution_count": null,
   "id": "81a3f347",
   "metadata": {},
   "outputs": [],
   "source": []
  },
  {
   "cell_type": "code",
   "execution_count": null,
   "id": "0b808787",
   "metadata": {},
   "outputs": [],
   "source": []
  }
 ],
 "metadata": {
  "kernelspec": {
   "display_name": "Python 3 (ipykernel)",
   "language": "python",
   "name": "python3"
  },
  "language_info": {
   "codemirror_mode": {
    "name": "ipython",
    "version": 3
   },
   "file_extension": ".py",
   "mimetype": "text/x-python",
   "name": "python",
   "nbconvert_exporter": "python",
   "pygments_lexer": "ipython3",
   "version": "3.8.16"
  }
 },
 "nbformat": 4,
 "nbformat_minor": 5
}

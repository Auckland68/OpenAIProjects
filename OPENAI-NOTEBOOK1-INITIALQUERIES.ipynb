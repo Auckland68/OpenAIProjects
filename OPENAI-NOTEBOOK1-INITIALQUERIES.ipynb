{
 "cells": [
  {
   "cell_type": "code",
   "execution_count": 2,
   "id": "95026397",
   "metadata": {},
   "outputs": [],
   "source": [
    "# Import libraries\n",
    "import openai\n",
    "import os"
   ]
  },
  {
   "cell_type": "code",
   "execution_count": 3,
   "id": "27c6c489",
   "metadata": {},
   "outputs": [],
   "source": [
    "# Set as environments variable\n",
    "#os.environ['OPEN_AI_KEY'] = ''\n",
    "openai.api_key = os.getenv('OPEN_AI_KEY')"
   ]
  },
  {
   "cell_type": "code",
   "execution_count": 9,
   "id": "b726347e",
   "metadata": {},
   "outputs": [],
   "source": [
    "# Get a response\n",
    "response = openai.Completion.create(model = 'text-davinci-003',\n",
    "                                   prompt = 'Give me two reasons to learn OPENAI API with Python',\n",
    "                                   max_tokens = 100)"
   ]
  },
  {
   "cell_type": "code",
   "execution_count": 10,
   "id": "e1528fe8",
   "metadata": {},
   "outputs": [
    {
     "data": {
      "text/plain": [
       "<OpenAIObject text_completion id=cmpl-6v4owNur0Ty6AF27vtWTyLkow0LwL at 0x13bd3da4db0> JSON: {\n",
       "  \"choices\": [\n",
       "    {\n",
       "      \"finish_reason\": \"stop\",\n",
       "      \"index\": 0,\n",
       "      \"logprobs\": null,\n",
       "      \"text\": \"\\n\\n1. OpenAI API provides easy access to powerful machine learning tools and model building tools, making it an ideal choice for getting started with artificial intelligence and machine learning projects in Python.\\n\\n2. The OpenAI API enables developers to rapidly prototype and experiment with their AI solutions without the need for low-level coding. This drastically reduces development time and makes the technology more accessible to all types of developers.\"\n",
       "    }\n",
       "  ],\n",
       "  \"created\": 1679061246,\n",
       "  \"id\": \"cmpl-6v4owNur0Ty6AF27vtWTyLkow0LwL\",\n",
       "  \"model\": \"text-davinci-003\",\n",
       "  \"object\": \"text_completion\",\n",
       "  \"usage\": {\n",
       "    \"completion_tokens\": 83,\n",
       "    \"prompt_tokens\": 11,\n",
       "    \"total_tokens\": 94\n",
       "  }\n",
       "}"
      ]
     },
     "execution_count": 10,
     "metadata": {},
     "output_type": "execute_result"
    }
   ],
   "source": [
    "# Show result\n",
    "response"
   ]
  },
  {
   "cell_type": "code",
   "execution_count": 12,
   "id": "ce3c2153",
   "metadata": {},
   "outputs": [
    {
     "name": "stdout",
     "output_type": "stream",
     "text": [
      "\n",
      "\n",
      "1. OpenAI API provides easy access to powerful machine learning tools and model building tools, making it an ideal choice for getting started with artificial intelligence and machine learning projects in Python.\n",
      "\n",
      "2. The OpenAI API enables developers to rapidly prototype and experiment with their AI solutions without the need for low-level coding. This drastically reduces development time and makes the technology more accessible to all types of developers.\n"
     ]
    }
   ],
   "source": [
    "# Print out the text\n",
    "print(response['choices'][0]['text'])"
   ]
  },
  {
   "cell_type": "code",
   "execution_count": 17,
   "id": "f00bfeb2",
   "metadata": {},
   "outputs": [],
   "source": [
    "# Get a response 2 - uncomment to run\n",
    "#response2 = openai.Completion.create(model = 'text-davinci-003',\n",
    "                                    # prompt = 'Poem about the weather',\n",
    "                                    # max_tokens = 300)"
   ]
  },
  {
   "cell_type": "code",
   "execution_count": 15,
   "id": "40198291",
   "metadata": {},
   "outputs": [
    {
     "name": "stdout",
     "output_type": "stream",
     "text": [
      "\n",
      "\n",
      "Rainbows stretching far and wide,\n",
      "Dancing in the sky so high,\n",
      "Colors bouncing off the sun,\n",
      "Bringing moments of joy and fun.\n",
      "\n",
      "Three months of summer's heat,\n",
      "Beaches filled with people sweet,\n",
      "Lemonade and ice cream cones,\n",
      "Glistening days and happy tones.\n",
      "\n",
      "Crisp, cool Autumn breezes blow,\n",
      "Changing everyday as we know,\n",
      "Leaves that brighten up the trees,\n",
      "Bring us joy and memories.\n",
      "\n",
      "Soft, light snowflakes start to fall,\n",
      "Spirits high for Winter's call,\n",
      "Skating rinks and snowmen tall,\n",
      "Everything is so beautiful.\n",
      "\n",
      "And with the coming of the Spring,\n",
      "Everything seems to take to wing,\n",
      "Life begins anew with blooms,\n",
      "Making everything a brighter room.\n"
     ]
    }
   ],
   "source": [
    "# Print out the text\n",
    "print(response2['choices'][0]['text'])"
   ]
  }
 ],
 "metadata": {
  "kernelspec": {
   "display_name": "Python 3 (ipykernel)",
   "language": "python",
   "name": "python3"
  },
  "language_info": {
   "codemirror_mode": {
    "name": "ipython",
    "version": 3
   },
   "file_extension": ".py",
   "mimetype": "text/x-python",
   "name": "python",
   "nbconvert_exporter": "python",
   "pygments_lexer": "ipython3",
   "version": "3.8.16"
  }
 },
 "nbformat": 4,
 "nbformat_minor": 5
}
